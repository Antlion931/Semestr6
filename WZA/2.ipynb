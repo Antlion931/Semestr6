{
 "cells": [
  {
   "cell_type": "markdown",
   "metadata": {},
   "source": [
    "I am treating polynomials as arrays `a_0 + a_1 * x + ... + a_n * x^n = [a_0, a_1, ..., a_n]`"
   ]
  },
  {
   "cell_type": "code",
   "execution_count": 29,
   "metadata": {},
   "outputs": [],
   "source": [
    "import sys"
   ]
  },
  {
   "cell_type": "code",
   "execution_count": 38,
   "metadata": {},
   "outputs": [],
   "source": [
    "def norm(a):\n",
    "    result = len(a) - 1\n",
    "    while abs(a[result]) < sys.float_info.epsilon and result >= 0:\n",
    "        result -= 1\n",
    "\n",
    "    return result"
   ]
  },
  {
   "cell_type": "code",
   "execution_count": 152,
   "metadata": {},
   "outputs": [],
   "source": [
    "def times(a, b):\n",
    "    if norm(a) < 0 or norm(b) < 0:\n",
    "        return [0]\n",
    "\n",
    "    result = [0] * (norm(a) + norm(b) + 2)\n",
    "    for ai in range(0, norm(a) + 1):\n",
    "        for bi in range(0, norm(b) + 1):\n",
    "            result[ai + bi] += a[ai]*b[bi]\n",
    "    return result\n"
   ]
  },
  {
   "cell_type": "code",
   "execution_count": 117,
   "metadata": {},
   "outputs": [],
   "source": [
    "def div(a, b):\n",
    "    first_non_zero_b = norm(b)\n",
    "    \n",
    "    if first_non_zero_b < 0:\n",
    "        raise ValueError(\"Division by zero\")\n",
    "    \n",
    "    first_non_zero_a = norm(a)\n",
    "    \n",
    "    result = [0] * (first_non_zero_a - first_non_zero_b + 1)\n",
    "    \n",
    "    while first_non_zero_a >= first_non_zero_b:       \n",
    "\n",
    "        multiplier = a[first_non_zero_a] / b[first_non_zero_b]\n",
    "\n",
    "        result[first_non_zero_a - first_non_zero_b] = multiplier\n",
    "\n",
    "        for i in range(0, first_non_zero_b + 1):\n",
    "            a[first_non_zero_a - first_non_zero_b + i] -= b[i] * multiplier\n",
    "        \n",
    "        first_non_zero_a = first_non_zero_a - 1\n",
    "        \n",
    "        # find next non zero element of a\n",
    "        while first_non_zero_a >= 0 and abs(a[first_non_zero_a]) < sys.float_info.epsilon:\n",
    "            first_non_zero_a -= 1\n",
    "    return result, a\n",
    "\n"
   ]
  },
  {
   "cell_type": "code",
   "execution_count": 118,
   "metadata": {},
   "outputs": [
    {
     "data": {
      "text/plain": [
       "([0, -1.0, 1.0], [-2, -3.0, 2.0, 0.0, 0.0, 0.0])"
      ]
     },
     "execution_count": 118,
     "metadata": {},
     "output_type": "execute_result"
    }
   ],
   "source": [
    "div([-2, -1, 1, 0, -2, 1], [-2, -1, -1, 1])"
   ]
  },
  {
   "cell_type": "code",
   "execution_count": 135,
   "metadata": {},
   "outputs": [],
   "source": [
    "def gcd(a, b):\n",
    "    while norm(b) >= 0:\n",
    "        a, b = b, div(a, b)[1]\n",
    "\n",
    "    if norm(a) >= 0:\n",
    "        leading = a[norm(a)]\n",
    "        for i in range(0, norm(a) + 1):\n",
    "            a[i] /= leading\n",
    "\n",
    "    return a"
   ]
  },
  {
   "cell_type": "code",
   "execution_count": 158,
   "metadata": {},
   "outputs": [
    {
     "data": {
      "text/plain": [
       "[1.0, 0.0, 0.0]"
      ]
     },
     "execution_count": 158,
     "metadata": {},
     "output_type": "execute_result"
    }
   ],
   "source": [
    "gcd([1, 0, 2], [1, 2, 1]) # c"
   ]
  },
  {
   "cell_type": "code",
   "execution_count": 156,
   "metadata": {},
   "outputs": [],
   "source": [
    "def lcm(a, b):\n",
    "    return div(times(a, b), gcd(a, b))[0]"
   ]
  },
  {
   "cell_type": "code",
   "execution_count": 159,
   "metadata": {},
   "outputs": [
    {
     "data": {
      "text/plain": [
       "[1.0, 2.0, 3.0, 4.0, 2.0]"
      ]
     },
     "execution_count": 159,
     "metadata": {},
     "output_type": "execute_result"
    }
   ],
   "source": [
    "lcm([1, 0, 2], [1, 2, 1]) # c"
   ]
  }
 ],
 "metadata": {
  "kernelspec": {
   "display_name": "Python 3",
   "language": "python",
   "name": "python3"
  },
  "language_info": {
   "codemirror_mode": {
    "name": "ipython",
    "version": 3
   },
   "file_extension": ".py",
   "mimetype": "text/x-python",
   "name": "python",
   "nbconvert_exporter": "python",
   "pygments_lexer": "ipython3",
   "version": "3.10.12"
  }
 },
 "nbformat": 4,
 "nbformat_minor": 2
}
