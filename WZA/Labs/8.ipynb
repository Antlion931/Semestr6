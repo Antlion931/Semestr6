{
 "cells": [
  {
   "cell_type": "code",
   "execution_count": 5,
   "metadata": {},
   "outputs": [],
   "source": [
    "import sys\n",
    "\n",
    "def norm(a):\n",
    "    result = len(a) - 1\n",
    "    while  result >= 0 and abs(a[result]) < sys.float_info.epsilon:\n",
    "        result -= 1\n",
    "\n",
    "    return result"
   ]
  },
  {
   "cell_type": "code",
   "execution_count": 6,
   "metadata": {},
   "outputs": [],
   "source": [
    "def minus(a, b):\n",
    "    if norm(a) < 0 and norm(b) < 0:\n",
    "        return [0]\n",
    "\n",
    "    result = [0] * (max(norm(a), norm(b)) + 2)\n",
    "    for i in range(0, norm(a) + 1):\n",
    "        result[i] = a[i]\n",
    "    for i in range(0, norm(b) + 1):\n",
    "        result[i] -= b[i]\n",
    "    return result"
   ]
  },
  {
   "cell_type": "code",
   "execution_count": 7,
   "metadata": {},
   "outputs": [],
   "source": [
    "def times(a, b):\n",
    "    if norm(a) < 0 or norm(b) < 0:\n",
    "        return [0]\n",
    "\n",
    "    result = [0] * (norm(a) + norm(b) + 2)\n",
    "    for ai in range(0, norm(a) + 1):\n",
    "        for bi in range(0, norm(b) + 1):\n",
    "            result[ai + bi] += a[ai]*b[bi]\n",
    "    return result\n"
   ]
  },
  {
   "cell_type": "code",
   "execution_count": 8,
   "metadata": {},
   "outputs": [],
   "source": [
    "def div(a, b):\n",
    "    first_non_zero_b = norm(b)\n",
    "    \n",
    "    if first_non_zero_b < 0:\n",
    "        raise ValueError(\"Division by zero\")\n",
    "    \n",
    "    first_non_zero_a = norm(a)\n",
    "    \n",
    "    result = [0] * (first_non_zero_a - first_non_zero_b + 1)\n",
    "    \n",
    "    while first_non_zero_a >= first_non_zero_b:       \n",
    "\n",
    "        multiplier = a[first_non_zero_a] / b[first_non_zero_b]\n",
    "\n",
    "        result[first_non_zero_a - first_non_zero_b] = multiplier\n",
    "\n",
    "        for i in range(0, first_non_zero_b + 1):\n",
    "            a[first_non_zero_a - first_non_zero_b + i] -= b[i] * multiplier\n",
    "        \n",
    "        first_non_zero_a = first_non_zero_a - 1\n",
    "        \n",
    "        # find next non zero element of a\n",
    "        while first_non_zero_a >= 0 and abs(a[first_non_zero_a]) < sys.float_info.epsilon:\n",
    "            first_non_zero_a -= 1\n",
    "    return result, a"
   ]
  },
  {
   "cell_type": "code",
   "execution_count": 9,
   "metadata": {},
   "outputs": [],
   "source": [
    "def extended_gcd(a, b):\n",
    "    new_A = [1]\n",
    "    old_A = [0]\n",
    "\n",
    "    new_B = [0]\n",
    "    old_B = [1]\n",
    "\n",
    "    while norm(b) >= 0:\n",
    "        old_A, new_A = new_A, minus(old_A, times(div(a, b)[0], new_A))\n",
    "\n",
    "        old_B, new_B = new_B, minus(old_B, times(div(a, b)[0], new_B))\n",
    "\n",
    "        a, b = b, div(a, b)[1]\n",
    "\n",
    "    return (a, old_A, old_B)"
   ]
  },
  {
   "cell_type": "code",
   "execution_count": 10,
   "metadata": {},
   "outputs": [
    {
     "data": {
      "text/plain": [
       "([0.5625, 0.0, 0.0], [0.125, -0.5, 0], [0])"
      ]
     },
     "execution_count": 10,
     "metadata": {},
     "output_type": "execute_result"
    }
   ],
   "source": [
    "extended_gcd([1, 0, 2], [1, 2, 1])"
   ]
  }
 ],
 "metadata": {
  "kernelspec": {
   "display_name": "Python 3",
   "language": "python",
   "name": "python3"
  },
  "language_info": {
   "codemirror_mode": {
    "name": "ipython",
    "version": 3
   },
   "file_extension": ".py",
   "mimetype": "text/x-python",
   "name": "python",
   "nbconvert_exporter": "python",
   "pygments_lexer": "ipython3",
   "version": "3.10.12"
  }
 },
 "nbformat": 4,
 "nbformat_minor": 2
}
